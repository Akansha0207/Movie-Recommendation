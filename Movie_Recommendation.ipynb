{
  "nbformat": 4,
  "nbformat_minor": 0,
  "metadata": {
    "colab": {
      "name": "Movie Recommendation.ipynb",
      "provenance": []
    },
    "kernelspec": {
      "name": "python3",
      "display_name": "Python 3"
    },
    "accelerator": "GPU"
  },
  "cells": [
    {
      "cell_type": "markdown",
      "metadata": {
        "id": "yj_TZBlCCCZP"
      },
      "source": [
        "**Approach:** Mood of user is taken as input and based on input, the corresponding genre will be selected and top movies of that particular genre will be displayed by scrapping the title of movies from the IMDb list to create a recommendation system."
      ]
    },
    {
      "cell_type": "code",
      "metadata": {
        "id": "bqdqJ0GyAW3Q"
      },
      "source": [
        "# Importing library for web scraping \n",
        "from bs4 import BeautifulSoup as SOUP             # BeautifulSoup is used for pulling data out of HTML and XML files.\n",
        "import re\n",
        "import requests as HTTP"
      ],
      "execution_count": null,
      "outputs": []
    },
    {
      "cell_type": "code",
      "metadata": {
        "id": "6TfA_1P5AXvP"
      },
      "source": [
        "# Main Function for scraping\n",
        "def main(genre):\n",
        "    # IMDb Url for Comedy Drama genre of movie against \"Genre- Sad\"\n",
        "    if (genre == \"Sad\"):\n",
        "        urlhere = 'https://www.imdb.com/list/ls052109630/'\n",
        "\n",
        "    # IMDb Url for Action and SciFi genre of movie against \"Genre -Excitement\"\n",
        "    elif (genre == \"Excitement\"):\n",
        "        urlhere = 'https://www.imdb.com/search/title/?count=100&genres=action&release_date=2019,2019&title_type=feature'\n",
        "\n",
        "    # IMDb Url for Musical genre of movie against \"Genre- Disgust\"\n",
        "    elif (genre == \"Disgust\"):\n",
        "        urlhere = 'http://www.imdb.com/search/title?genres=musical&title_type=feature&sort=moviemeter, asc'\n",
        "\n",
        "    # IMDb Url for Family genre of movie against \"Genre -Anger\"\n",
        "    elif (genre == \"Anger\"):\n",
        "        urlhere = 'https://www.imdb.com/list/ls004108030/'\n",
        "\n",
        "    # IMDb Url for Sport genre of movie against \"Genre -Fear\"\n",
        "    elif (genre == \"Fear\"):\n",
        "        urlhere = 'http://www.imdb.com/search/title?genres=sport&title_type=feature&sort=moviemeter, asc'\n",
        "\n",
        "    # IMDb Url for Thriller genre of movie against 'Genre-Enjoyment\"\n",
        "    elif (genre== \"Enjoyment\"):\n",
        "        urlhere = 'http://www.imdb.com/search/title?genres=thriller&title_type=feature&sort=moviemeter, asc'\n",
        "\n",
        "    # IMDb Url for Top Rated Movies - movie against no Genre entered.\n",
        "    elif (genre == \"\"):\n",
        "        urlhere = 'https://www.imdb.com/chart/top?ref_=nv_mv_250'\n",
        "\n",
        "    # IMDb Url for Western genre of movie against \"Genre-Trust\"\n",
        "    elif (genre == \"Trust\"):\n",
        "        urlhere = 'http://www.imdb.com/search/title?genres=western&title_type=feature&sort=moviemeter, asc'\n",
        "\n",
        "    # IMDb Url for Film_noir genre of movie against 'Genre- Surprise\"\n",
        "    elif (genre == \"Surprise\"):\n",
        "        urlhere = 'http://www.imdb.com/search/title?genres=film_noir&title_type=feature&sort=moviemeter, asc'\n",
        "\n",
        "    # HTTP request to get the data of the whole page\n",
        "    response = HTTP.get(urlhere)\n",
        "    data = response.text\n",
        "\n",
        "    # Parsing the data using BeautifulSoup\n",
        "    soup = SOUP(data, \"lxml\")\n",
        "\n",
        "    # Extract movie titles from the data using regex\n",
        "    title = soup.find_all(\"a\", attrs={\"href\": re.compile(r'\\/title\\/tt+\\d*\\/')})\n",
        "    return title"
      ],
      "execution_count": null,
      "outputs": []
    },
    {
      "cell_type": "code",
      "metadata": {
        "id": "RVp73K_YAk-E",
        "outputId": "e20e138e-9002-4969-9b25-310cc7579771",
        "colab": {
          "base_uri": "https://localhost:8080/",
          "height": 612
        }
      },
      "source": [
        "# Driver Function\n",
        "if __name__ == '__main__':\n",
        "\n",
        "    emotion = input(\"Enter the genre: \").title()\n",
        "    a = main(emotion)\n",
        "\n",
        "    count = 0\n",
        "\n",
        "    if (emotion == \"Surprise\"):\n",
        "\n",
        "        for i in a:\n",
        "            # Splitting each line of the IMDb data to scrape movies\n",
        "            tmp = str(i).split('>;')\n",
        "\n",
        "            if (len(tmp) == 3):\n",
        "                print(tmp[1][:-3])\n",
        "\n",
        "            if (count > 102):\n",
        "                break\n",
        "            count += 1\n",
        "    else:\n",
        "        for i in a:\n",
        "            tmp = str(i).split('>')\n",
        "\n",
        "            if (len(tmp) == 3):\n",
        "                print(tmp[1][:-3])\n",
        "\n",
        "            if (count > 100):\n",
        "                break\n",
        "            count += 1\n"
      ],
      "execution_count": null,
      "outputs": [
        {
          "output_type": "stream",
          "text": [
            "Enter the genre: Enjoyment\n",
            "The Devil All the Time\n",
            "The Trial of the Chicago 7\n",
            "I'm Thinking of Ending Things\n",
            "Antebellum\n",
            "Ava\n",
            "Knives Out\n",
            "No Time to Die\n",
            "The Invisible Man\n",
            "The Craft\n",
            "Joker\n",
            "Parasite\n",
            "Greenland\n",
            "Interstellar\n",
            "Gemini Man\n",
            "The Dark Knight\n",
            "The Silencing\n",
            "Inception\n",
            "The Old Guard\n",
            "Possessor\n",
            "Alone\n",
            "Doctor Sleep\n",
            "21 Bridges\n",
            "Midsommar\n",
            "Unhinged\n",
            "Halloween\n",
            "Blade Runner 2049\n",
            "The Silence of the Lambs\n",
            "Halloween\n",
            "Lost Girls and Love Hotels\n",
            "Project Power\n",
            "Zodiac\n",
            "Bastille Day\n",
            "North by Northwest\n",
            "#Alive\n"
          ],
          "name": "stdout"
        }
      ]
    },
    {
      "cell_type": "markdown",
      "metadata": {
        "id": "ScFL-C0xCLks"
      },
      "source": [
        "List of latest featured movies based on the user’s input ,i,e; based on user's mood."
      ]
    }
  ]
}